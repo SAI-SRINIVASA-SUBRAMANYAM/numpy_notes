{
  "nbformat": 4,
  "nbformat_minor": 0,
  "metadata": {
    "colab": {
      "provenance": [],
      "collapsed_sections": []
    },
    "kernelspec": {
      "name": "python3",
      "display_name": "Python 3"
    },
    "language_info": {
      "name": "python"
    }
  },
  "cells": [
    {
      "cell_type": "code",
      "execution_count": 1,
      "metadata": {
        "id": "p4vnYRZFaacJ"
      },
      "outputs": [],
      "source": [
        "import numpy as np"
      ]
    },
    {
      "cell_type": "code",
      "source": [
        "# initial data\n",
        "\n",
        "num_list_1 = [1,2,3,4,5,6]\n",
        "num_list_2 = [[1,2,3],[4,5,6]]\n",
        "print(\"Data in number list 1 and 2:\", num_list_1, \"&\", num_list_2)\n",
        "print(\"type of number list 1 and 2:\", type(num_list_1), \"&\", type(num_list_2))"
      ],
      "metadata": {
        "colab": {
          "base_uri": "https://localhost:8080/"
        },
        "id": "c99yDPzbaggO",
        "outputId": "25745525-22f6-4327-aec5-df730c53fb16"
      },
      "execution_count": 2,
      "outputs": [
        {
          "output_type": "stream",
          "name": "stdout",
          "text": [
            "Data in number list 1 and 2: [1, 2, 3, 4, 5, 6] & [[1, 2, 3], [4, 5, 6]]\n",
            "type of number list 1 and 2: <class 'list'> & <class 'list'>\n"
          ]
        }
      ]
    },
    {
      "cell_type": "code",
      "source": [
        "# list to numpy array\n",
        "\n",
        "np_arr_1 = np.array(num_list_1)\n",
        "np_arr_2 = np.array(num_list_2)\n",
        "\n",
        "print(\"Numpy data array 1 and 2 :\", np_arr_1, \"&\", np_arr_2)\n",
        "print(\"Data type:\", type(np_arr_1),\"&\",type(np_arr_2))"
      ],
      "metadata": {
        "colab": {
          "base_uri": "https://localhost:8080/"
        },
        "id": "bqbDH22abInB",
        "outputId": "e96cd592-69e1-4915-efc8-cc3c448751e8"
      },
      "execution_count": 3,
      "outputs": [
        {
          "output_type": "stream",
          "name": "stdout",
          "text": [
            "Numpy data array 1 and 2 : [1 2 3 4 5 6] & [[1 2 3]\n",
            " [4 5 6]]\n",
            "Data type: <class 'numpy.ndarray'> & <class 'numpy.ndarray'>\n"
          ]
        }
      ]
    },
    {
      "cell_type": "code",
      "source": [
        "# get specified range of data\n",
        "\n",
        "\n",
        "np.arange(1, 10, 3)"
      ],
      "metadata": {
        "colab": {
          "base_uri": "https://localhost:8080/"
        },
        "id": "vG7CLhdtbPCm",
        "outputId": "91c3be01-7dc6-404e-de73-40489e338b37"
      },
      "execution_count": 4,
      "outputs": [
        {
          "output_type": "execute_result",
          "data": {
            "text/plain": [
              "array([1, 4, 7])"
            ]
          },
          "metadata": {},
          "execution_count": 4
        }
      ]
    },
    {
      "cell_type": "code",
      "source": [
        "# Zero matrix\n",
        "\n",
        "np.zeros(10)"
      ],
      "metadata": {
        "colab": {
          "base_uri": "https://localhost:8080/"
        },
        "id": "qV6XcYRYcKer",
        "outputId": "29ceadab-fb08-42cf-a21f-328501664487"
      },
      "execution_count": 5,
      "outputs": [
        {
          "output_type": "execute_result",
          "data": {
            "text/plain": [
              "array([0., 0., 0., 0., 0., 0., 0., 0., 0., 0.])"
            ]
          },
          "metadata": {},
          "execution_count": 5
        }
      ]
    },
    {
      "cell_type": "code",
      "source": [
        "# Zero matrix n dimension array \n",
        "# parameters defines as (rows, columns)\n",
        "\n",
        "np.zeros((2, 3))"
      ],
      "metadata": {
        "colab": {
          "base_uri": "https://localhost:8080/"
        },
        "id": "-s9_ruY6cY8J",
        "outputId": "87953b70-07d7-4ff0-905f-5357f68335ec"
      },
      "execution_count": 6,
      "outputs": [
        {
          "output_type": "execute_result",
          "data": {
            "text/plain": [
              "array([[0., 0., 0.],\n",
              "       [0., 0., 0.]])"
            ]
          },
          "metadata": {},
          "execution_count": 6
        }
      ]
    },
    {
      "cell_type": "code",
      "source": [
        "# One's matrix\n",
        "\n",
        "np.ones((4, 3))"
      ],
      "metadata": {
        "colab": {
          "base_uri": "https://localhost:8080/"
        },
        "id": "9HPqerhDcdl6",
        "outputId": "d5bdfaad-439f-4b8e-ba7e-367218463d70"
      },
      "execution_count": 7,
      "outputs": [
        {
          "output_type": "execute_result",
          "data": {
            "text/plain": [
              "array([[1., 1., 1.],\n",
              "       [1., 1., 1.],\n",
              "       [1., 1., 1.],\n",
              "       [1., 1., 1.]])"
            ]
          },
          "metadata": {},
          "execution_count": 7
        }
      ]
    },
    {
      "cell_type": "code",
      "source": [
        "# Getting linear space / equal interval numbers\n",
        "# (Min number, Max number, Number of values to be returned)\n",
        "\n",
        "print(\"Example 1:\", np.linspace(1, 5, 5))\n",
        "\n",
        "print(\"Example 2:\", np.linspace(1, 5, 6))\n",
        "\n",
        "print(\"Example 3:\", np.linspace(-1, -5, 6))\n",
        "\n",
        "print(\"Example 4:\", np.linspace(1, -5, 6))\n",
        "\n",
        "print(\"Example 5:\", np.linspace(-1, 5, 6))\n",
        "\n",
        "print(\"Example 6:\", np.linspace(1, 5, 3))"
      ],
      "metadata": {
        "colab": {
          "base_uri": "https://localhost:8080/"
        },
        "id": "BjW0h62tcqoM",
        "outputId": "6ea108b2-2776-469e-a2f4-665c9180faaf"
      },
      "execution_count": 8,
      "outputs": [
        {
          "output_type": "stream",
          "name": "stdout",
          "text": [
            "Example 1: [1. 2. 3. 4. 5.]\n",
            "Example 2: [1.  1.8 2.6 3.4 4.2 5. ]\n",
            "Example 3: [-1.  -1.8 -2.6 -3.4 -4.2 -5. ]\n",
            "Example 4: [ 1.  -0.2 -1.4 -2.6 -3.8 -5. ]\n",
            "Example 5: [-1.   0.2  1.4  2.6  3.8  5. ]\n",
            "Example 6: [1. 3. 5.]\n"
          ]
        }
      ]
    },
    {
      "cell_type": "code",
      "source": [
        "# Identity matrix\n",
        "\n",
        "np.eye(3)"
      ],
      "metadata": {
        "colab": {
          "base_uri": "https://localhost:8080/"
        },
        "id": "qZ2PIWiJdE1A",
        "outputId": "0c613b22-23c6-433f-92e7-edb5a4ad131e"
      },
      "execution_count": 9,
      "outputs": [
        {
          "output_type": "execute_result",
          "data": {
            "text/plain": [
              "array([[1., 0., 0.],\n",
              "       [0., 1., 0.],\n",
              "       [0., 0., 1.]])"
            ]
          },
          "metadata": {},
          "execution_count": 9
        }
      ]
    },
    {
      "cell_type": "code",
      "source": [
        "# Random distributions of data\n",
        "# Uniform distrubtion\n",
        "\n",
        "np.random.rand(4, 3)"
      ],
      "metadata": {
        "colab": {
          "base_uri": "https://localhost:8080/"
        },
        "id": "9TU5heIgeXFP",
        "outputId": "5a6696a2-2eda-4af9-be51-7cf67aff93d6"
      },
      "execution_count": 10,
      "outputs": [
        {
          "output_type": "execute_result",
          "data": {
            "text/plain": [
              "array([[0.02731536, 0.60783402, 0.60984177],\n",
              "       [0.91285051, 0.41473047, 0.43336455],\n",
              "       [0.49869957, 0.88855908, 0.83707085],\n",
              "       [0.50109399, 0.93253566, 0.54758619]])"
            ]
          },
          "metadata": {},
          "execution_count": 10
        }
      ]
    },
    {
      "cell_type": "code",
      "source": [
        "# Random of normal distribution\n",
        "# mean is 0 and variance is 1\n",
        "\n",
        "np.random.randn(2, 3)"
      ],
      "metadata": {
        "colab": {
          "base_uri": "https://localhost:8080/"
        },
        "id": "9d3OLx_2e3wV",
        "outputId": "7f299247-9c73-4779-d048-21eb74814391"
      },
      "execution_count": 11,
      "outputs": [
        {
          "output_type": "execute_result",
          "data": {
            "text/plain": [
              "array([[ 0.03199756, -0.57474703, -0.28418634],\n",
              "       [ 0.88309433, -1.16470979, -1.09911877]])"
            ]
          },
          "metadata": {},
          "execution_count": 11
        }
      ]
    },
    {
      "cell_type": "code",
      "source": [
        "# Unifrom distribution\n",
        "\n",
        "print(\"Example 1:\\n\", np.random.randint(1, 11, 3))\n",
        "print(\"*\"*10)\n",
        "print(\"Example 2:\\n \", np.random.randint(1, 11, (2,3)))"
      ],
      "metadata": {
        "colab": {
          "base_uri": "https://localhost:8080/"
        },
        "id": "lR1jE-m0fHl5",
        "outputId": "ab7fe57d-d55c-435d-f51a-b7233cabbda4"
      },
      "execution_count": 12,
      "outputs": [
        {
          "output_type": "stream",
          "name": "stdout",
          "text": [
            "Example 1:\n",
            " [8 5 7]\n",
            "**********\n",
            "Example 2:\n",
            "  [[ 5 10  5]\n",
            " [ 3  9  7]]\n"
          ]
        }
      ]
    },
    {
      "cell_type": "code",
      "source": [
        "# Seed is used to set the random state, so that random also set to reproduced\n",
        "# Some random 42 is the Hitchhiker's Guide to the Galaxy by Douglas Adams.\n",
        "\n",
        "np.random.seed(42)\n",
        "np.random.rand(4)"
      ],
      "metadata": {
        "colab": {
          "base_uri": "https://localhost:8080/"
        },
        "id": "m1QUlNCffjc4",
        "outputId": "953aa864-072a-4670-eec4-43cf4c2b78b1"
      },
      "execution_count": 13,
      "outputs": [
        {
          "output_type": "execute_result",
          "data": {
            "text/plain": [
              "array([0.37454012, 0.95071431, 0.73199394, 0.59865848])"
            ]
          },
          "metadata": {},
          "execution_count": 13
        }
      ]
    },
    {
      "cell_type": "code",
      "source": [
        "# Reshape\n",
        "\n",
        "arr = np.arange(0, 25).reshape(5, 5)\n",
        "arr"
      ],
      "metadata": {
        "colab": {
          "base_uri": "https://localhost:8080/"
        },
        "id": "VBZOFZ-BhFnW",
        "outputId": "fa3a4f64-49a5-4997-c542-eda6ab64c717"
      },
      "execution_count": 14,
      "outputs": [
        {
          "output_type": "execute_result",
          "data": {
            "text/plain": [
              "array([[ 0,  1,  2,  3,  4],\n",
              "       [ 5,  6,  7,  8,  9],\n",
              "       [10, 11, 12, 13, 14],\n",
              "       [15, 16, 17, 18, 19],\n",
              "       [20, 21, 22, 23, 24]])"
            ]
          },
          "metadata": {},
          "execution_count": 14
        }
      ]
    },
    {
      "cell_type": "code",
      "source": [
        "# Aggreate function\n",
        "\n",
        "\n",
        "r_arr = np.random.randint(0, 101, 10)\n",
        "print(\"data: \", r_arr)\n",
        "print(\"Minimum and Maximum:\", np.min(r_arr), \"&\", np.max(r_arr))\n",
        "print(\"Index position of Minimum and Maximum:\", np.argmin(r_arr), \"&\", np.argmax(r_arr))\n",
        "print(\"Sum:\", np.sum(r_arr), \"(or)\", r_arr.sum())\n",
        "print(\"Mean:\", np.mean(r_arr), \"(or)\", r_arr.mean())"
      ],
      "metadata": {
        "colab": {
          "base_uri": "https://localhost:8080/"
        },
        "id": "cLBwTrTphvNJ",
        "outputId": "b0f62c09-2e06-4759-b659-55cc5145ab17"
      },
      "execution_count": 15,
      "outputs": [
        {
          "output_type": "stream",
          "name": "stdout",
          "text": [
            "data:  [82 86 74 74 87 99 23  2 21 52]\n",
            "Minimum and Maximum: 2 & 99\n",
            "Index position of Minimum and Maximum: 7 & 5\n",
            "Sum: 600 (or) 600\n",
            "Mean: 60.0 (or) 60.0\n"
          ]
        }
      ]
    },
    {
      "cell_type": "markdown",
      "source": [
        "\n",
        "\n",
        "---\n",
        "<center>\n",
        "<h1>Selection & Ranging</h1>\n",
        "</center>\n",
        "\n",
        "---\n"
      ],
      "metadata": {
        "id": "Nx4mluiVjhUO"
      }
    },
    {
      "cell_type": "code",
      "source": [
        "arr2 = np.arange(0, 11)\n",
        "print(\"Data\", arr2)\n",
        "print(\"Data at position at 9: \", arr2[9])\n",
        "print(\"Example 1: \", arr2[0:9])"
      ],
      "metadata": {
        "colab": {
          "base_uri": "https://localhost:8080/"
        },
        "id": "QBvOhOKrhwQH",
        "outputId": "8b851994-d3ff-4ff5-fb51-ff9e3662e3dc"
      },
      "execution_count": 27,
      "outputs": [
        {
          "output_type": "stream",
          "name": "stdout",
          "text": [
            "Data [ 0  1  2  3  4  5  6  7  8  9 10]\n",
            "Data at position at 9:  9\n",
            "Example 1:  [0 1 2 3 4 5 6 7 8]\n"
          ]
        }
      ]
    },
    {
      "cell_type": "code",
      "source": [
        "# Boradcasting the array\n",
        "\n",
        "arr3 = np.arange(0, 11)\n",
        "print(\"Before - Boradcasting\", arr3)\n",
        "arr3[0:5] = 199\n",
        "print(\"After - Boradcasting\", arr3)"
      ],
      "metadata": {
        "colab": {
          "base_uri": "https://localhost:8080/"
        },
        "id": "9TFCdJ34kUFd",
        "outputId": "0802407c-507e-47da-cf78-4c1dcafb71a6"
      },
      "execution_count": 29,
      "outputs": [
        {
          "output_type": "stream",
          "name": "stdout",
          "text": [
            "Before - Boradcasting [ 0  1  2  3  4  5  6  7  8  9 10]\n",
            "After - Boradcasting [199 199 199 199 199   5   6   7   8   9  10]\n"
          ]
        }
      ]
    },
    {
      "cell_type": "code",
      "source": [
        "# Slicing and broadcasting\n",
        "\n",
        "slice_arr3 = arr3[2:7]\n",
        "print(\"Slice of arr3\", slice_arr3)\n",
        "slice_arr3[:] = 42\n",
        "print(\"After broadcasting Slice of arr3 and original arr3:\", slice_arr3, \"&\", arr3)"
      ],
      "metadata": {
        "colab": {
          "base_uri": "https://localhost:8080/"
        },
        "id": "V91EA-a-kktz",
        "outputId": "ce8c4fbe-9458-481c-968d-d658b5a017fb"
      },
      "execution_count": 32,
      "outputs": [
        {
          "output_type": "stream",
          "name": "stdout",
          "text": [
            "Slice of arr3 [199 199 199   5   6]\n",
            "After broadcasting Slice of arr3 and original arr3: [42 42 42 42 42] & [199 199  42  42  42  42  42   7   8   9  10]\n"
          ]
        }
      ]
    },
    {
      "cell_type": "code",
      "source": [
        "# Deep copy \n",
        "\n",
        "slice_arr3_v2 = np.copy(arr3[2:7])\n",
        "print(\"Slice of arr3 version 2\", slice_arr3_v2)\n",
        "slice_arr3_v2[:] = 153\n",
        "print(\"After broadcasting Slice of arr3 version2 and original arr3:\", slice_arr3_v2, \"&\", arr3)"
      ],
      "metadata": {
        "colab": {
          "base_uri": "https://localhost:8080/"
        },
        "id": "ZVuWs7NNlTyT",
        "outputId": "a3893676-db3e-439b-89c1-cd6121ebfc2c"
      },
      "execution_count": 34,
      "outputs": [
        {
          "output_type": "stream",
          "name": "stdout",
          "text": [
            "Slice of arr3 version 2 [42 42 42 42 42]\n",
            "After broadcasting Slice of arr3 version2 and original arr3: [153 153 153 153 153] & [199 199  42  42  42  42  42   7   8   9  10]\n"
          ]
        }
      ]
    },
    {
      "cell_type": "code",
      "source": [
        "# 2 dimension array\n",
        "\n",
        "arr_2d = np.array([[1,2,3],[3,3,3],[9,8,7]])\n",
        "print(\"arr_2d: \", arr_2d)\n",
        "print(\"Shape:\", arr_2d.shape)\n",
        "print(\"Element at 0th row & 1st column: \", arr_2d[0,1], \"(or)\", arr_2d[0][1])\n",
        "print(\"Slice 1:\", arr_2d[1:, :2])\n",
        "print(\"Slice 1:\", arr_2d[:2, :])"
      ],
      "metadata": {
        "colab": {
          "base_uri": "https://localhost:8080/"
        },
        "id": "CIIj1oIWmDV6",
        "outputId": "ec6e9eb4-e502-473b-8789-c662deba3876"
      },
      "execution_count": 54,
      "outputs": [
        {
          "output_type": "stream",
          "name": "stdout",
          "text": [
            "arr_2d:  [[1 2 3]\n",
            " [3 3 3]\n",
            " [9 8 7]]\n",
            "Shape: (3, 3)\n",
            "Element at 0th row & 1st column:  2 (or) 2\n",
            "Slice 1: [[3 3]\n",
            " [9 8]]\n",
            "Slice 1: [[1 2 3]\n",
            " [3 3 3]]\n"
          ]
        }
      ]
    },
    {
      "cell_type": "code",
      "source": [
        "arr_3 = np.arange(0, 10)\n",
        "print(arr_3)\n",
        "print(\"Filter data greater than 5:\", arr_3[arr_3>5])\n",
        "print(\"Filter data greater than 5:\", np.where(arr_3>5))"
      ],
      "metadata": {
        "colab": {
          "base_uri": "https://localhost:8080/"
        },
        "id": "6HA_ZlIwmpbi",
        "outputId": "735e442e-e148-4719-b1a4-001fe66f3a1f"
      },
      "execution_count": 63,
      "outputs": [
        {
          "output_type": "stream",
          "name": "stdout",
          "text": [
            "[0 1 2 3 4 5 6 7 8 9]\n",
            "Filter data greater than 5: [6 7 8 9]\n",
            "Filter data greater than 5: (array([6, 7, 8, 9]),)\n"
          ]
        }
      ]
    },
    {
      "cell_type": "markdown",
      "source": [
        "\n",
        "\n",
        "---\n",
        "<center>\n",
        "<h1>\n",
        "<b>Airthematic Operations</b>\n",
        "</h1>\n",
        "</center>\n",
        "\n",
        "---\n"
      ],
      "metadata": {
        "id": "S0-sHllB4QwJ"
      }
    },
    {
      "cell_type": "code",
      "source": [
        "arr_a = np.arange(1, 11)\n",
        "arr_b = np.arange(10, 0, -1)\n",
        "\n",
        "print(arr_a, arr_b)\n",
        "print(\"Addition: \", arr_a + arr_b)\n",
        "print(\"Subtraction: \", arr_a - arr_b)\n",
        "print(\"Division example1: \", arr_a / arr_b)\n",
        "print(\"Division example2: \", arr_b / (arr_a-1))"
      ],
      "metadata": {
        "colab": {
          "base_uri": "https://localhost:8080/"
        },
        "id": "HnvBfmED4P7v",
        "outputId": "5299ba54-4770-4c21-d45d-18961bedff3a"
      },
      "execution_count": 75,
      "outputs": [
        {
          "output_type": "stream",
          "name": "stdout",
          "text": [
            "[ 1  2  3  4  5  6  7  8  9 10] [10  9  8  7  6  5  4  3  2  1]\n",
            "Addition:  [11 11 11 11 11 11 11 11 11 11]\n",
            "Subtraction:  [-9 -7 -5 -3 -1  1  3  5  7  9]\n",
            "Division example1:  [ 0.1         0.22222222  0.375       0.57142857  0.83333333  1.2\n",
            "  1.75        2.66666667  4.5        10.        ]\n",
            "Division example2:  [       inf 9.         4.         2.33333333 1.5        1.\n",
            " 0.66666667 0.42857143 0.25       0.11111111]\n"
          ]
        },
        {
          "output_type": "stream",
          "name": "stderr",
          "text": [
            "/usr/local/lib/python3.7/dist-packages/ipykernel_launcher.py:8: RuntimeWarning: divide by zero encountered in true_divide\n",
            "  \n"
          ]
        }
      ]
    },
    {
      "cell_type": "code",
      "source": [
        "print(\"Square root:\", np.sqrt(arr_b))\n",
        "print(\"Trignometry:\", np.sin(arr_a))\n",
        "print(\"Logrithums:\", np.log(arr_a))\n",
        "print(\"Mean/Avg:\", np.mean(arr_a))\n",
        "print(\"Variance:\", np.var(arr_a))\n",
        "print(\"Standard deviation:\", np.std(arr_a))"
      ],
      "metadata": {
        "colab": {
          "base_uri": "https://localhost:8080/"
        },
        "id": "_XD5gkKB4PQF",
        "outputId": "a41bf7bd-305a-4356-c71e-5ff21ed41ac5"
      },
      "execution_count": 85,
      "outputs": [
        {
          "output_type": "stream",
          "name": "stdout",
          "text": [
            "Square root: [3.16227766 3.         2.82842712 2.64575131 2.44948974 2.23606798\n",
            " 2.         1.73205081 1.41421356 1.        ]\n",
            "Trignometry: [ 0.84147098  0.90929743  0.14112001 -0.7568025  -0.95892427 -0.2794155\n",
            "  0.6569866   0.98935825  0.41211849 -0.54402111]\n",
            "Logrithums: [0.         0.69314718 1.09861229 1.38629436 1.60943791 1.79175947\n",
            " 1.94591015 2.07944154 2.19722458 2.30258509]\n",
            "Mean/Avg: 5.5\n",
            "Variance: 8.25\n",
            "Standard deviation: 2.8722813232690143\n"
          ]
        }
      ]
    },
    {
      "cell_type": "code",
      "source": [
        "arr2d = np.arange(0, 25).reshape(5, 5)\n",
        "arr2d"
      ],
      "metadata": {
        "colab": {
          "base_uri": "https://localhost:8080/"
        },
        "id": "t9qUGCNE6_-O",
        "outputId": "3a0f3c47-ff58-404f-9c06-9d23d136986a"
      },
      "execution_count": 89,
      "outputs": [
        {
          "output_type": "execute_result",
          "data": {
            "text/plain": [
              "array([[ 0,  1,  2,  3,  4],\n",
              "       [ 5,  6,  7,  8,  9],\n",
              "       [10, 11, 12, 13, 14],\n",
              "       [15, 16, 17, 18, 19],\n",
              "       [20, 21, 22, 23, 24]])"
            ]
          },
          "metadata": {},
          "execution_count": 89
        }
      ]
    },
    {
      "cell_type": "code",
      "source": [
        "#Working with 2d array\n",
        "print(\"Sum of rows\", arr2d.sum(axis=1))\n",
        "print(\"Sum of columns\", arr2d.sum(axis=0))"
      ],
      "metadata": {
        "colab": {
          "base_uri": "https://localhost:8080/"
        },
        "id": "atAbZXlI_NQ1",
        "outputId": "72dee516-2770-4335-f3da-570677a6b512"
      },
      "execution_count": 91,
      "outputs": [
        {
          "output_type": "stream",
          "name": "stdout",
          "text": [
            "Sum of rows [ 10  35  60  85 110]\n",
            "Sum of columns [50 55 60 65 70]\n"
          ]
        }
      ]
    },
    {
      "cell_type": "markdown",
      "source": [
        "# Recap"
      ],
      "metadata": {
        "id": "4EAa19bsDkfo"
      }
    },
    {
      "cell_type": "code",
      "source": [
        "uniform_dist_arr = np.arange(1, 101)/100\n",
        "uniform_dist_arr.reshape(10, 10)"
      ],
      "metadata": {
        "colab": {
          "base_uri": "https://localhost:8080/"
        },
        "id": "DLAINwO5_0so",
        "outputId": "ba6083af-69d9-4713-ecf1-77990ea2bb0c"
      },
      "execution_count": 98,
      "outputs": [
        {
          "output_type": "execute_result",
          "data": {
            "text/plain": [
              "array([[0.01, 0.02, 0.03, 0.04, 0.05, 0.06, 0.07, 0.08, 0.09, 0.1 ],\n",
              "       [0.11, 0.12, 0.13, 0.14, 0.15, 0.16, 0.17, 0.18, 0.19, 0.2 ],\n",
              "       [0.21, 0.22, 0.23, 0.24, 0.25, 0.26, 0.27, 0.28, 0.29, 0.3 ],\n",
              "       [0.31, 0.32, 0.33, 0.34, 0.35, 0.36, 0.37, 0.38, 0.39, 0.4 ],\n",
              "       [0.41, 0.42, 0.43, 0.44, 0.45, 0.46, 0.47, 0.48, 0.49, 0.5 ],\n",
              "       [0.51, 0.52, 0.53, 0.54, 0.55, 0.56, 0.57, 0.58, 0.59, 0.6 ],\n",
              "       [0.61, 0.62, 0.63, 0.64, 0.65, 0.66, 0.67, 0.68, 0.69, 0.7 ],\n",
              "       [0.71, 0.72, 0.73, 0.74, 0.75, 0.76, 0.77, 0.78, 0.79, 0.8 ],\n",
              "       [0.81, 0.82, 0.83, 0.84, 0.85, 0.86, 0.87, 0.88, 0.89, 0.9 ],\n",
              "       [0.91, 0.92, 0.93, 0.94, 0.95, 0.96, 0.97, 0.98, 0.99, 1.  ]])"
            ]
          },
          "metadata": {},
          "execution_count": 98
        }
      ]
    },
    {
      "cell_type": "code",
      "source": [
        "np.linspace(0, 1, 20)"
      ],
      "metadata": {
        "colab": {
          "base_uri": "https://localhost:8080/"
        },
        "id": "Hkk0ez8LBkQp",
        "outputId": "7bd32e75-c240-49db-ab72-55866cada985"
      },
      "execution_count": 101,
      "outputs": [
        {
          "output_type": "execute_result",
          "data": {
            "text/plain": [
              "array([0.        , 0.05263158, 0.10526316, 0.15789474, 0.21052632,\n",
              "       0.26315789, 0.31578947, 0.36842105, 0.42105263, 0.47368421,\n",
              "       0.52631579, 0.57894737, 0.63157895, 0.68421053, 0.73684211,\n",
              "       0.78947368, 0.84210526, 0.89473684, 0.94736842, 1.        ])"
            ]
          },
          "metadata": {},
          "execution_count": 101
        }
      ]
    },
    {
      "cell_type": "code",
      "source": [
        "mat2d = np.arange(1, 26).reshape(5, 5)\n",
        "\n",
        "mat2d"
      ],
      "metadata": {
        "colab": {
          "base_uri": "https://localhost:8080/"
        },
        "id": "zKWaQaFrB8ee",
        "outputId": "0eb8ef3f-c0b3-410b-a180-2a48ddee9173"
      },
      "execution_count": 111,
      "outputs": [
        {
          "output_type": "execute_result",
          "data": {
            "text/plain": [
              "array([[ 1,  2,  3,  4,  5],\n",
              "       [ 6,  7,  8,  9, 10],\n",
              "       [11, 12, 13, 14, 15],\n",
              "       [16, 17, 18, 19, 20],\n",
              "       [21, 22, 23, 24, 25]])"
            ]
          },
          "metadata": {},
          "execution_count": 111
        }
      ]
    },
    {
      "cell_type": "code",
      "source": [
        "mat2d[:3, 1:2]"
      ],
      "metadata": {
        "colab": {
          "base_uri": "https://localhost:8080/"
        },
        "id": "MFN8T5seC0BW",
        "outputId": "f2af599e-c94d-4303-9b5e-ee11fbe6e2d9"
      },
      "execution_count": 112,
      "outputs": [
        {
          "output_type": "execute_result",
          "data": {
            "text/plain": [
              "array([[ 2],\n",
              "       [ 7],\n",
              "       [12]])"
            ]
          },
          "metadata": {},
          "execution_count": 112
        }
      ]
    },
    {
      "cell_type": "code",
      "source": [
        "mat2d[4]"
      ],
      "metadata": {
        "colab": {
          "base_uri": "https://localhost:8080/"
        },
        "id": "OumbOQzLC6jR",
        "outputId": "b2d9dfa1-5960-49d7-9383-76b0c27a98d2"
      },
      "execution_count": 114,
      "outputs": [
        {
          "output_type": "execute_result",
          "data": {
            "text/plain": [
              "array([21, 22, 23, 24, 25])"
            ]
          },
          "metadata": {},
          "execution_count": 114
        }
      ]
    },
    {
      "cell_type": "code",
      "source": [
        "np.random.seed(101)\n",
        "np.random.rand(1)"
      ],
      "metadata": {
        "colab": {
          "base_uri": "https://localhost:8080/"
        },
        "id": "c-By1M6-DG6b",
        "outputId": "5253fb83-b1ea-4c76-a525-fb38aba12114"
      },
      "execution_count": 115,
      "outputs": [
        {
          "output_type": "execute_result",
          "data": {
            "text/plain": [
              "array([0.51639863])"
            ]
          },
          "metadata": {},
          "execution_count": 115
        }
      ]
    }
  ]
}