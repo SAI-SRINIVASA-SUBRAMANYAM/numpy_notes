{
 "cells": [
  {
   "cell_type": "markdown",
   "id": "23194f4b",
   "metadata": {},
   "source": [
    "# Some random practice problems"
   ]
  },
  {
   "cell_type": "code",
   "execution_count": 1,
   "id": "80bc4f48",
   "metadata": {},
   "outputs": [],
   "source": [
    "import numpy as np"
   ]
  },
  {
   "cell_type": "raw",
   "id": "3595f2f3",
   "metadata": {},
   "source": [
    "#1 Create an 2 x 5 numpy array. Write a Python code to find the sum, mean, maximum, minimum, argmax and argmin of the array on each axis individually."
   ]
  },
  {
   "cell_type": "code",
   "execution_count": 2,
   "id": "11aaa294",
   "metadata": {},
   "outputs": [],
   "source": [
    "t1 = np.arange(1, 11).reshape(2, 5)\n",
    "t2 = np.random.randint(1, 100, 12).reshape(3, 4)"
   ]
  },
  {
   "cell_type": "code",
   "execution_count": 3,
   "id": "f3a711df",
   "metadata": {},
   "outputs": [
    {
     "name": "stdout",
     "output_type": "stream",
     "text": [
      "GIVEN\n",
      "\n",
      " [[ 1  2  3  4  5]\n",
      " [ 6  7  8  9 10]] \n",
      "\n",
      " [[64 31 59  4]\n",
      " [ 2 80 30 83]\n",
      " [89  6 72 51]]\n",
      "SUM.t1 [15 40] [ 7  9 11 13 15] 55\n",
      "MEAN.t1 [3. 8.] [3.5 4.5 5.5 6.5 7.5] 5.5\n",
      "MAX.t1 [ 5 10] [ 6  7  8  9 10] 10\n",
      "MIN.t1 [1 6] [1 2 3 4 5] 1\n",
      "ARGMAX.t2 [0 3 0] [2 1 2 1] 8\n",
      "ARGMIN.t2 [0 3 0] [2 1 2 1] 8\n"
     ]
    }
   ],
   "source": [
    "print(\"GIVEN\\n\\n\", t1, \"\\n\\n\", t2)\n",
    "print(\"SUM.t1\", t1.sum(axis = 1), t1.sum(axis = 0), t1.sum())\n",
    "print(\"MEAN.t1\", t1.mean(axis = 1), t1.mean(axis = 0), t1.mean())\n",
    "print(\"MAX.t1\", t1.max(axis = 1), t1.max(axis = 0), t1.max())\n",
    "print(\"MIN.t1\", t1.min(axis = 1), t1.min(axis = 0), t1.min())\n",
    "print(\"ARGMAX.t2\", t2.argmax(axis = 1), t2.argmax(axis = 0), t2.argmax())\n",
    "print(\"ARGMIN.t2\", t2.argmax(axis = 1), t2.argmax(axis = 0), t2.argmax())"
   ]
  },
  {
   "cell_type": "raw",
   "id": "562c94d2",
   "metadata": {},
   "source": [
    "#2 Create an 4 x 5 array. P is special input. Write a Python code which tests whether P is greater than any of the elements in rows (axis 1) or in columns (axis 0). Output the individual rows and columns indices where such a condition is true."
   ]
  },
  {
   "cell_type": "code",
   "execution_count": 4,
   "id": "933c7c70",
   "metadata": {},
   "outputs": [
    {
     "name": "stdout",
     "output_type": "stream",
     "text": [
      "[[894 217 748 303 954]\n",
      " [242 201 755 523 758]\n",
      " [779 619 751 888 141]\n",
      " [896 820 302 938  77]] 288\n"
     ]
    }
   ],
   "source": [
    "t3 = np.random.randint(1, 1000, 20).reshape(4, 5)\n",
    "p = np.sum(np.random.randint(1, 100, 5))\n",
    "print(t3, p)"
   ]
  },
  {
   "cell_type": "code",
   "execution_count": 5,
   "id": "139455d9",
   "metadata": {},
   "outputs": [
    {
     "data": {
      "text/plain": [
       "array([[0, 0],\n",
       "       [0, 2],\n",
       "       [0, 3],\n",
       "       [0, 4],\n",
       "       [1, 2],\n",
       "       [1, 3],\n",
       "       [1, 4],\n",
       "       [2, 0],\n",
       "       [2, 1],\n",
       "       [2, 2],\n",
       "       [2, 3],\n",
       "       [3, 0],\n",
       "       [3, 1],\n",
       "       [3, 2],\n",
       "       [3, 3]], dtype=int64)"
      ]
     },
     "execution_count": 5,
     "metadata": {},
     "output_type": "execute_result"
    }
   ],
   "source": [
    "np.column_stack(np.where(t3 > p))"
   ]
  },
  {
   "cell_type": "raw",
   "id": "bb688a85",
   "metadata": {},
   "source": [
    "#3 Find the sum of the diagonal elements of a 5 x 5 matrix. Broadcast this scalar quantity onto an array and get the product of the broadcasted scalar and the array."
   ]
  },
  {
   "cell_type": "code",
   "execution_count": 6,
   "id": "522d08ef",
   "metadata": {},
   "outputs": [
    {
     "name": "stdout",
     "output_type": "stream",
     "text": [
      "[[ 5 19 13 13 12]\n",
      " [ 8  6  8  5 18]\n",
      " [16  3 12 15 21]\n",
      " [ 5  9 14 20  5]\n",
      " [ 2 21  8  6  2]]\n",
      "45\n"
     ]
    },
    {
     "data": {
      "text/plain": [
       "array([[225, 855, 585, 585, 540],\n",
       "       [360, 270, 360, 225, 810],\n",
       "       [720, 135, 540, 675, 945],\n",
       "       [225, 405, 630, 900, 225],\n",
       "       [ 90, 945, 360, 270,  90]])"
      ]
     },
     "execution_count": 6,
     "metadata": {},
     "output_type": "execute_result"
    }
   ],
   "source": [
    "t4 = np.random.randint(1, 25, 25).reshape(5, 5)\n",
    "print(t4)\n",
    "x = np.sum(t4[[0,1,2,3,4],[0,1,2,3,4]])\n",
    "print(x)\n",
    "t4 * x"
   ]
  },
  {
   "cell_type": "raw",
   "id": "255e1c63",
   "metadata": {},
   "source": [
    "#4 Output (i,j)th element as k of a 5 x 5 array. Finally multiply the 2-D array with k and output the result."
   ]
  },
  {
   "cell_type": "code",
   "execution_count": 7,
   "id": "01820e2a",
   "metadata": {},
   "outputs": [
    {
     "name": "stdout",
     "output_type": "stream",
     "text": [
      "65 [[ 8450  7605  2145  7800  5590]\n",
      " [ 6695  2600  8190 11180 13455]\n",
      " [ 6825  4225  9555  4160  1105]\n",
      " [14950   260 10985  2145  8645]\n",
      " [ 4550  1235 11245  6370 14495]]\n"
     ]
    }
   ],
   "source": [
    "i = np.random.randint(0, 4)\n",
    "j = i - 1\n",
    "t5 = np.random.randint(0, 255, 25).reshape(5, 5)\n",
    "k = t5[i, j]\n",
    "print(k, t5 * k)"
   ]
  },
  {
   "cell_type": "raw",
   "id": "e83a3f44",
   "metadata": {},
   "source": [
    "#5 Create a M-D NxN numpy (matrix) array. Extract the M diagonals and represent them in a matrix where each row corresponds to each M."
   ]
  },
  {
   "cell_type": "code",
   "execution_count": 8,
   "id": "0b00af37",
   "metadata": {},
   "outputs": [
    {
     "name": "stdout",
     "output_type": "stream",
     "text": [
      "[[ 3  3 28]\n",
      " [75 57 94]\n",
      " [41 11 64]] [[ 3]\n",
      " [57]\n",
      " [64]]\n"
     ]
    }
   ],
   "source": [
    "t6 = np.random.randint(0, 99, 9).reshape(3, 3)\n",
    "print(t6, t6[[0,1,2],[0,1,2]].reshape(3,1))"
   ]
  },
  {
   "cell_type": "raw",
   "id": "a2f0411e",
   "metadata": {},
   "source": [
    "#6 This is an example of structured array"
   ]
  },
  {
   "cell_type": "code",
   "execution_count": 9,
   "id": "6f1b5de2",
   "metadata": {},
   "outputs": [
    {
     "name": "stdout",
     "output_type": "stream",
     "text": [
      "[(b'abc', 21, 50.) (b'xyz', 18, 75.)] [('name', 'S20'), ('age', 'i1'), ('marks', '<f4')]\n"
     ]
    }
   ],
   "source": [
    "student = np.dtype([('name','S20'), ('age', 'i1'), ('marks', 'f4')])\n",
    "a = np.array([('abc', 21, 50),('xyz', 18, 75)], dtype = student)\n",
    "print(a, a.dtype)"
   ]
  },
  {
   "cell_type": "code",
   "execution_count": null,
   "id": "95ac0089",
   "metadata": {},
   "outputs": [],
   "source": []
  }
 ],
 "metadata": {
  "kernelspec": {
   "display_name": "Python 3 (ipykernel)",
   "language": "python",
   "name": "python3"
  },
  "language_info": {
   "codemirror_mode": {
    "name": "ipython",
    "version": 3
   },
   "file_extension": ".py",
   "mimetype": "text/x-python",
   "name": "python",
   "nbconvert_exporter": "python",
   "pygments_lexer": "ipython3",
   "version": "3.9.7"
  }
 },
 "nbformat": 4,
 "nbformat_minor": 5
}
